{
  "nbformat": 4,
  "nbformat_minor": 0,
  "metadata": {
    "colab": {
      "provenance": [],
      "authorship_tag": "ABX9TyP5UyhnpuNXyLcqtLZ6C7p0",
      "include_colab_link": true
    },
    "kernelspec": {
      "name": "python3",
      "display_name": "Python 3"
    },
    "language_info": {
      "name": "python"
    }
  },
  "cells": [
    {
      "cell_type": "markdown",
      "metadata": {
        "id": "view-in-github",
        "colab_type": "text"
      },
      "source": [
        "<a href=\"https://colab.research.google.com/github/SYMUN21/Workflow_practice/blob/dev/practice.ipynb\" target=\"_parent\"><img src=\"https://colab.research.google.com/assets/colab-badge.svg\" alt=\"Open In Colab\"/></a>"
      ]
    },
    {
      "cell_type": "code",
      "execution_count": null,
      "metadata": {
        "id": "UiJ032gBJkj4"
      },
      "outputs": [],
      "source": [
        "import javax.swing.*;\n",
        "import java.awt.*;\n",
        "import java.awt.event.*;\n",
        "\n",
        "public class LoginForm extends JFrame implements ActionListener {\n",
        "    private JTextField usernameField;\n",
        "    private JPasswordField passwordField;\n",
        "    private JButton loginButton;\n",
        "    private JButton clearButton;\n",
        "    private Frame fromPanel;\n",
        "\n",
        "    public LoginForm() {\n",
        "        setTitle(\"Login Form\");\n",
        "        setSize(width:290, 150);\n",
        "        setDefaultCloseOperation(EXIT_ON_CLOSE);\n",
        "       setLocationRelativeTo(null);\n",
        "        setLayout(new GridLayout(3, 2));\n",
        "        getContentPane().setBackground(new Color(255,207, 150));\n",
        "        JLabel usernameLabel = new JLabel(\"Username:\");\n",
        "        usernameField = new JTextField();\n",
        "\n",
        "        JLabel passwordLabel = new JLabel(\"Password:\");\n",
        "        passwordField = new JPasswordField();\n",
        "\n",
        "        loginButton = new JButton(\"Login\");\n",
        "        loginButton.addActionListener(this);\n",
        "        clearButton = new JButton(\"Clear\");\n",
        "        clearButton.addActionListener(this);\n",
        "\n",
        "        add(usernameLabel);\n",
        "        add(usernameField);\n",
        "        add(passwordLabel);\n",
        "        add(passwordField);\n",
        "        add(loginButton);\n",
        "        add(clearButton);\n",
        "\n",
        "\n",
        "        setVisible(true);\n",
        "    }\n",
        "\n",
        "    @Override\n",
        "    public void actionPerformed(ActionEvent e) {\n",
        "        if (e.getSource() == loginButton) {\n",
        "            String username = usernameField.getText();\n",
        "            String password = new String(passwordField.getPassword());\n",
        "\n",
        "\n",
        "            System.out.println(\"Username: \" + username);\n",
        "            System.out.println(\"Password: \" + password);\n",
        "            //login button end\n",
        "\n",
        "            // clear button\n",
        "\n",
        "            dispose();\n",
        "        } else if (e.getSource() == clearButton) {\n",
        "            usernameField.setText(\"\");\n",
        "            passwordField.setText(\"\");\n",
        "        }\n",
        "    }\n",
        "\n",
        "     public static void main(String[] args) {\n",
        "        SwingUtilities.invokeLater(new Runnable() {\n",
        "            public void run() {\n",
        "                new LoginForm();\n",
        "            }\n",
        "        });\n",
        "    }\n",
        "}"
      ]
    }
  ]
}